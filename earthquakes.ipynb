{
 "cells": [
  {
   "cell_type": "markdown",
   "metadata": {},
   "source": [
    "# Loading the data set"
   ]
  },
  {
   "cell_type": "code",
   "execution_count": 1,
   "metadata": {},
   "outputs": [
    {
     "name": "stderr",
     "output_type": "stream",
     "text": [
      "C:\\Users\\USER\\AppData\\Local\\Temp\\ipykernel_6668\\1065136592.py:1: DeprecationWarning: \n",
      "Pyarrow will become a required dependency of pandas in the next major release of pandas (pandas 3.0),\n",
      "(to allow more performant data types, such as the Arrow string type, and better interoperability with other libraries)\n",
      "but was not found to be installed on your system.\n",
      "If this would cause problems for you,\n",
      "please provide us feedback at https://github.com/pandas-dev/pandas/issues/54466\n",
      "        \n",
      "  import pandas as pd\n"
     ]
    }
   ],
   "source": [
    "import pandas as pd\n",
    "import matplotlib.pyplot as plt\n",
    "import numpy as np\n",
    "import tensorflow as tf\n",
    "import torch"
   ]
  },
  {
   "cell_type": "code",
   "execution_count": 2,
   "metadata": {},
   "outputs": [
    {
     "name": "stdout",
     "output_type": "stream",
     "text": [
      "384593    01:41.7\n",
      "384594    42:45.4\n",
      "384595    27:37.1\n",
      "384596    16:55.0\n",
      "384597    14:41.7\n",
      "384598    10:59.8\n",
      "384599    50:50.7\n",
      "384600    46:57.6\n",
      "384601    18:06.3\n",
      "384602    16:05.0\n",
      "Name: time, dtype: object\n"
     ]
    }
   ],
   "source": [
    "dataset=pd.read_csv(\"merged_dataset.csv\")\n",
    "\n",
    "print(dataset[\"time\"].tail(10))"
   ]
  },
  {
   "cell_type": "code",
   "execution_count": 3,
   "metadata": {},
   "outputs": [
    {
     "name": "stdout",
     "output_type": "stream",
     "text": [
      "Index(['date', 'latitude', 'longitude', 'depth', 'mag', 'magType', 'nst',\n",
      "       'gap', 'dmin', 'rms', 'net', 'id', 'updated', 'place', 'type',\n",
      "       'horizontalError', 'depthError', 'magError', 'magNst', 'status',\n",
      "       'locationSource', 'magSource', 'time'],\n",
      "      dtype='object')\n"
     ]
    }
   ],
   "source": [
    "print(dataset.columns)"
   ]
  },
  {
   "cell_type": "markdown",
   "metadata": {},
   "source": [
    "1. date: The date and time of the earthquake event.\n",
    "2. latitude: The latitude coordinate of the earthquake's epicenter.\n",
    "3. longitude: The longitude coordinate of the earthquake's epicenter.\n",
    "4. depth: The depth at which the earthquake occurred below the Earth's surface.\n",
    "5. mag: The magnitude of the earthquake.\n",
    "6. magType: The type of magnitude measurement used (e.g., \"mb\" for body wave magnitude, \"ml\" for local magnitude, etc.).\n",
    "7. nst: The total number of seismic stations used to calculate the earthquake magnitude.\n",
    "8. gap: The azimuthal gap (in degrees) between adjacent seismic stations used to calculate the earthquake magnitude.\n",
    "9. dmin: The minimum distance (in degrees) to the nearest station that recorded the earthquake.\n",
    "10. rms: The root mean square (RMS) of the residual (difference between observed and predicted) amplitudes for the earthquake.\n",
    "11. net: The seismic network that recorded the earthquake.\n",
    "12. id: A unique identifier for the earthquake event.\n",
    "13. updated: The time when the earthquake information was last updated.\n",
    "14. place: The location or region where the earthquake occurred.\n",
    "15. type: The type of seismic event (e.g., \"earthquake\", \"explosion\", \"quarry blast\", etc.).\n",
    "16. horizontalError: The horizontal error (in kilometers) of the earthquake location.\n",
    "17. depthError: The error (uncertainty) in the reported depth of the earthquake.\n",
    "18. magError: The error (uncertainty) in the reported magnitude of the earthquake.\n",
    "19. magNst: The number of seismic stations contributing to the determination of earthquake magnitude.\n",
    "20. status: The status of the earthquake event (e.g., \"reviewed\", \"automatic\", etc.).\n",
    "21. locationSource: The source of location information for the earthquake.\n",
    "22. magSource: The source of magnitude information for the earthquake.\n",
    "23. time: The time of the earthquake event."
   ]
  },
  {
   "cell_type": "code",
   "execution_count": null,
   "metadata": {},
   "outputs": [],
   "source": []
  }
 ],
 "metadata": {
  "kernelspec": {
   "display_name": "Python 3",
   "language": "python",
   "name": "python3"
  },
  "language_info": {
   "codemirror_mode": {
    "name": "ipython",
    "version": 3
   },
   "file_extension": ".py",
   "mimetype": "text/x-python",
   "name": "python",
   "nbconvert_exporter": "python",
   "pygments_lexer": "ipython3",
   "version": "3.12.0"
  }
 },
 "nbformat": 4,
 "nbformat_minor": 2
}
